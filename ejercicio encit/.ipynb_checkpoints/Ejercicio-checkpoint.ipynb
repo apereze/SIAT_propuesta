{
 "cells": [
  {
   "cell_type": "code",
   "execution_count": 1,
   "id": "4a151e41-0ebd-4370-9830-d71a6fa676d3",
   "metadata": {},
   "outputs": [],
   "source": [
    "import pandas as pd\n",
    "import numpy as np\n",
    "import seaborn as sns\n",
    "import matplotlib.pyplot as plt\n",
    "from sklearn.linear_model import LinearRegression"
   ]
  },
  {
   "cell_type": "code",
   "execution_count": 4,
   "id": "d1a81c25-9989-4720-8d94-59b7e43f302c",
   "metadata": {},
   "outputs": [],
   "source": []
  },
  {
   "cell_type": "markdown",
   "id": "bebbd6cc-dd64-44e1-8f14-ba1fcb42c2b9",
   "metadata": {},
   "source": [
    "La base de datos 'ROCLOUD' calcula el tamaño de los Ciclones tropicales del Atlántico usando un radio desde el centro del CT hasta el punto mas lejano donde se reportan nubes en imagenes infrarrojas. \n",
    "\n",
    "Como tarea futura se busca a partir de datos de la condición de la atmosfera, poder predecir si los CTs son grandes, medianos o pequeños en función de ciertos parametros: \n",
    "\n",
    "A) Es grande si el radio del CT supera los 750 km \n",
    "B) Es pequeño si el radio del CT es menor a los 550 km \n",
    "C) Es medianao si el radio del CT está entre los dos valores anteriores. \n",
    "\n",
    "Los datos que quieren usarse son: \n",
    " - La posición de la tormenta (lon,lat)\n",
    " - la velocidad máxima del viento (MWS)\n",
    " - la presión mínima en el centro de la tormenta\n",
    " - la humedad a 500 mb\n",
    " - la cizalladura del viento\n",
    " - la velocidad vertical\n",
    " - la vorticidad a 500 mb\n",
    "\n",
    "Por lo que deberas:\n",
    "\n",
    "a) Crear una nueva columna categorica para los tamaños del CT\n",
    "\n",
    "b) Realizar una transformación de las variables para que cada uan tenga una media de cero y una desviación estandar de 1 (distribución normal o estándar)\n",
    "\n",
    "c) dividir los datos para ingresar en los modelos y posteriormente secciona las variables en 70% para entrenamiento y 30% para prueba. \n",
    "\n",
    "d) utiliza los modelos de clasificación vistos en clase para predecir las variables. \n",
    "\n",
    "e) utilizando las métricas de evaluación aprendidas determina ¿cuál es el mejor modelo para alcanzar los objetivos?¿Es un buen modelo?\n"
   ]
  },
  {
   "cell_type": "code",
   "execution_count": null,
   "id": "e4b2e872-5431-4de8-b598-7db618dc2b77",
   "metadata": {},
   "outputs": [],
   "source": []
  },
  {
   "cell_type": "code",
   "execution_count": 15,
   "id": "1b83cceb-4d56-4a19-ab16-5784da227262",
   "metadata": {},
   "outputs": [],
   "source": [
    "# Para el inciso A)\n",
    "## Abrimos la base de datos: \n",
    "names = ['lat', 'lon', 'MWS', 'CPSL', 'hum', 'ciz', 'vvr', 'vor', 'Rp']\n",
    "dfvar = pd.read_csv('var_na.csv' ).iloc[:,1:]"
   ]
  },
  {
   "cell_type": "code",
   "execution_count": 17,
   "id": "29524346-7bc9-45f1-b3a8-8cabd4cbe17c",
   "metadata": {},
   "outputs": [
    {
     "data": {
      "text/html": [
       "<div>\n",
       "<style scoped>\n",
       "    .dataframe tbody tr th:only-of-type {\n",
       "        vertical-align: middle;\n",
       "    }\n",
       "\n",
       "    .dataframe tbody tr th {\n",
       "        vertical-align: top;\n",
       "    }\n",
       "\n",
       "    .dataframe thead th {\n",
       "        text-align: right;\n",
       "    }\n",
       "</style>\n",
       "<table border=\"1\" class=\"dataframe\">\n",
       "  <thead>\n",
       "    <tr style=\"text-align: right;\">\n",
       "      <th></th>\n",
       "      <th>lat</th>\n",
       "      <th>lon</th>\n",
       "      <th>MWS</th>\n",
       "      <th>CPSL</th>\n",
       "      <th>shum</th>\n",
       "      <th>ciz</th>\n",
       "      <th>vvr</th>\n",
       "      <th>vor</th>\n",
       "      <th>Rp</th>\n",
       "    </tr>\n",
       "  </thead>\n",
       "  <tbody>\n",
       "    <tr>\n",
       "      <th>0</th>\n",
       "      <td>21.0</td>\n",
       "      <td>-93.0</td>\n",
       "      <td>46.25</td>\n",
       "      <td>1008</td>\n",
       "      <td>3741.69</td>\n",
       "      <td>13.24</td>\n",
       "      <td>-0.13</td>\n",
       "      <td>94.53</td>\n",
       "      <td>749.96</td>\n",
       "    </tr>\n",
       "    <tr>\n",
       "      <th>1</th>\n",
       "      <td>20.9</td>\n",
       "      <td>-92.8</td>\n",
       "      <td>46.25</td>\n",
       "      <td>1009</td>\n",
       "      <td>3777.23</td>\n",
       "      <td>14.90</td>\n",
       "      <td>-0.10</td>\n",
       "      <td>110.13</td>\n",
       "      <td>755.68</td>\n",
       "    </tr>\n",
       "    <tr>\n",
       "      <th>2</th>\n",
       "      <td>20.7</td>\n",
       "      <td>-93.1</td>\n",
       "      <td>46.25</td>\n",
       "      <td>1010</td>\n",
       "      <td>3750.44</td>\n",
       "      <td>15.63</td>\n",
       "      <td>-0.07</td>\n",
       "      <td>106.59</td>\n",
       "      <td>658.86</td>\n",
       "    </tr>\n",
       "    <tr>\n",
       "      <th>3</th>\n",
       "      <td>20.8</td>\n",
       "      <td>-93.5</td>\n",
       "      <td>46.25</td>\n",
       "      <td>1010</td>\n",
       "      <td>3670.07</td>\n",
       "      <td>16.07</td>\n",
       "      <td>-0.07</td>\n",
       "      <td>109.16</td>\n",
       "      <td>666.72</td>\n",
       "    </tr>\n",
       "    <tr>\n",
       "      <th>4</th>\n",
       "      <td>27.5</td>\n",
       "      <td>-95.0</td>\n",
       "      <td>74.00</td>\n",
       "      <td>1007</td>\n",
       "      <td>2348.03</td>\n",
       "      <td>15.49</td>\n",
       "      <td>-0.26</td>\n",
       "      <td>173.82</td>\n",
       "      <td>528.34</td>\n",
       "    </tr>\n",
       "  </tbody>\n",
       "</table>\n",
       "</div>"
      ],
      "text/plain": [
       "    lat   lon    MWS  CPSL     shum    ciz   vvr     vor      Rp\n",
       "0  21.0 -93.0  46.25  1008  3741.69  13.24 -0.13   94.53  749.96\n",
       "1  20.9 -92.8  46.25  1009  3777.23  14.90 -0.10  110.13  755.68\n",
       "2  20.7 -93.1  46.25  1010  3750.44  15.63 -0.07  106.59  658.86\n",
       "3  20.8 -93.5  46.25  1010  3670.07  16.07 -0.07  109.16  666.72\n",
       "4  27.5 -95.0  74.00  1007  2348.03  15.49 -0.26  173.82  528.34"
      ]
     },
     "execution_count": 17,
     "metadata": {},
     "output_type": "execute_result"
    }
   ],
   "source": [
    "dfvar.head()"
   ]
  },
  {
   "cell_type": "code",
   "execution_count": 24,
   "id": "1749eb04-9b7b-4b31-9688-7a9c8f43ea97",
   "metadata": {},
   "outputs": [],
   "source": [
    "## Para el paso pueden abordarse diferentes tecnicas; se muestra la generación de una función\n",
    "\n",
    "def tamano(x):\n",
    "    if x >= 750: return 'Grande'\n",
    "    elif x<= 550: return 'Pequeño'\n",
    "    else: return 'Mediano'\n",
    "\n",
    "## Se aplica la función a la columna con apply \n",
    "\n",
    "dfvar['cat_tamano'] = dfvar['Rp'].apply(tamano)"
   ]
  },
  {
   "cell_type": "code",
   "execution_count": 25,
   "id": "7a1251ce-3b90-44df-88dd-5e527393bf17",
   "metadata": {},
   "outputs": [
    {
     "data": {
      "text/plain": [
       "cat_tamano\n",
       "Mediano    1914\n",
       "Grande     1481\n",
       "Pequeño    1387\n",
       "Name: count, dtype: int64"
      ]
     },
     "execution_count": 25,
     "metadata": {},
     "output_type": "execute_result"
    }
   ],
   "source": [
    "## como se decida las clases deben quedar:\n",
    "dfvar.cat_tamano.value_counts()"
   ]
  },
  {
   "cell_type": "code",
   "execution_count": 28,
   "id": "70a77b7c-d802-4393-96a2-8800dc0a3a9e",
   "metadata": {},
   "outputs": [],
   "source": [
    "## inciso b: Para cumplir el inciso B es necesario separa los features y variable a predecir. \n",
    "## Tomar en cuenta que los features no deben incluir ni el 'Rp' ni la variable categorica descrita\n",
    "\n",
    "features =  dfvar.drop(['Rp','cat_tamano'], axis=1).copy()\n",
    "Y = dfvar['cat_tamano'].copy()\n",
    "\n",
    "## Se aplica la transformación a los features\n",
    "from sklearn.preprocessing import StandardScaler\n",
    "scaler = StandardScaler()\n",
    "normalized_features = scaler.fit_transform(features)"
   ]
  },
  {
   "cell_type": "code",
   "execution_count": 30,
   "id": "0db1c661-d847-4b41-8a2c-abfac4f7d6f4",
   "metadata": {},
   "outputs": [],
   "source": [
    "## inciso c: la división de los datos se hara con ayuda de la función train_test_split. Verificar que el random state sea 10 y principalmente que se defina \n",
    "## TEST_SIZE = 0.3\n",
    "from sklearn.model_selection import train_test_split\n",
    "x_train, x_test, y_train, y_test = train_test_split(features, Y, random_state=10, test_size=.3)"
   ]
  },
  {
   "cell_type": "code",
   "execution_count": 35,
   "id": "10544ee8-3e1a-4b9c-a283-1637d7fa4bc7",
   "metadata": {},
   "outputs": [],
   "source": [
    "## inciso d: Para este punto se debera obtener los modelos de clasificacion: KNN, SVM y Arbol de decisión junto a sus metricas \n",
    "from sklearn.neighbors import KNeighborsClassifier\n",
    "from sklearn.tree import DecisionTreeClassifier\n",
    "from sklearn import svm\n",
    "\n",
    "# Importación de herramientas de preprocesamiento de scikit-learn\n",
    "from sklearn import preprocessing\n",
    "\n",
    "from sklearn.metrics import jaccard_score, f1_score\n",
    "from sklearn.metrics import accuracy_score\n",
    "import sklearn.metrics as metrics\n",
    "\n",
    "scaler_ = preprocessing.StandardScaler().fit(features)\n",
    "## KNN\n",
    "\n",
    "\n",
    "x_train_transf = scaler_.transform(x_train.astype(float))\n",
    "x_test_transf = scaler_.transform(x_test.astype(float))\n",
    "KNN = KNeighborsClassifier(n_neighbors=4).fit(x_train_transf, y_train)\n",
    "predictions = KNN.predict(x_test_transf)\n",
    "KNN_Accuracy_Score = accuracy_score(y_test, predictions)\n",
    "KNN_JaccardIndex = jaccard_score(y_test, predictions, average='macro')\n",
    "KNN_F1_Score = f1_score(y_test, predictions, average='macro')\n",
    "\n",
    "## SVM \n",
    "SVM = svm.SVC(kernel='linear')\n",
    "SVM.fit(x_train, y_train)\n",
    "predictions = SVM.predict(x_test)\n",
    "SVM_Accuracy_Score = accuracy_score(y_test, predictions)\n",
    "SVM_JaccardIndex = jaccard_score(y_test, predictions, average='macro')\n",
    "SVM_F1_Score = f1_score(y_test, predictions, average='macro')\n",
    "\n",
    "\n",
    "## ARBOL DE DECISIÓN \n",
    "Tree = DecisionTreeClassifier(max_depth=4, criterion='entropy')\n",
    "Tree.fit(x_train, y_train)\n",
    "predictions = Tree.predict(x_test)\n",
    "Tree_Accuracy_Score = accuracy_score(y_test, predictions)\n",
    "Tree_JaccardIndex = jaccard_score(y_test, predictions, average='macro')\n",
    "Tree_F1_Score = f1_score(y_test, predictions, average='macro')\n",
    "\n"
   ]
  },
  {
   "cell_type": "code",
   "execution_count": 36,
   "id": "e8237958-d0c2-4d06-9cf2-6504a99ff416",
   "metadata": {},
   "outputs": [
    {
     "data": {
      "text/html": [
       "<div>\n",
       "<style scoped>\n",
       "    .dataframe tbody tr th:only-of-type {\n",
       "        vertical-align: middle;\n",
       "    }\n",
       "\n",
       "    .dataframe tbody tr th {\n",
       "        vertical-align: top;\n",
       "    }\n",
       "\n",
       "    .dataframe thead th {\n",
       "        text-align: right;\n",
       "    }\n",
       "</style>\n",
       "<table border=\"1\" class=\"dataframe\">\n",
       "  <thead>\n",
       "    <tr style=\"text-align: right;\">\n",
       "      <th></th>\n",
       "      <th>Accuracy</th>\n",
       "      <th>Jaccard Index</th>\n",
       "      <th>F1-Score</th>\n",
       "    </tr>\n",
       "  </thead>\n",
       "  <tbody>\n",
       "    <tr>\n",
       "      <th>KNN</th>\n",
       "      <td>0.570732</td>\n",
       "      <td>0.401606</td>\n",
       "      <td>0.572793</td>\n",
       "    </tr>\n",
       "    <tr>\n",
       "      <th>Decision Tree</th>\n",
       "      <td>0.510105</td>\n",
       "      <td>0.295847</td>\n",
       "      <td>0.426760</td>\n",
       "    </tr>\n",
       "    <tr>\n",
       "      <th>SVM</th>\n",
       "      <td>0.536585</td>\n",
       "      <td>0.363405</td>\n",
       "      <td>0.526400</td>\n",
       "    </tr>\n",
       "  </tbody>\n",
       "</table>\n",
       "</div>"
      ],
      "text/plain": [
       "               Accuracy  Jaccard Index  F1-Score\n",
       "KNN            0.570732       0.401606  0.572793\n",
       "Decision Tree  0.510105       0.295847  0.426760\n",
       "SVM            0.536585       0.363405  0.526400"
      ]
     },
     "execution_count": 36,
     "metadata": {},
     "output_type": "execute_result"
    }
   ],
   "source": [
    "## Opcion E. Creamos el reporte de las metricas para comparar cual sería la mejor opción: \n",
    "Report = pd.DataFrame(\n",
    "    index=['KNN', 'Decision Tree', 'SVM'],\n",
    "    data={\n",
    "        'Accuracy': [KNN_Accuracy_Score, Tree_Accuracy_Score, SVM_Accuracy_Score],\n",
    "        'Jaccard Index': [KNN_JaccardIndex, Tree_JaccardIndex, SVM_JaccardIndex],\n",
    "        'F1-Score': [KNN_F1_Score, Tree_F1_Score, SVM_F1_Score]\n",
    "    }\n",
    ")\n",
    "\n",
    "Report"
   ]
  },
  {
   "cell_type": "markdown",
   "id": "60c29861-15df-4320-a802-230a76b6bd39",
   "metadata": {},
   "source": [
    "De acuerdo a las metricas calculadas debido a que en las tres métricas el modelo de KNN es superior, consideramos que es el **Mejor modelo** de los tres. Sin emabrgo, las bajas calificaciones indicarían que pueden hacerse mejoras en él y poder mejorar. Por lo que no es un buen modelo, apesar de ser el mejor de los 3. "
   ]
  }
 ],
 "metadata": {
  "kernelspec": {
   "display_name": "Python 3 (ipykernel)",
   "language": "python",
   "name": "python3"
  },
  "language_info": {
   "codemirror_mode": {
    "name": "ipython",
    "version": 3
   },
   "file_extension": ".py",
   "mimetype": "text/x-python",
   "name": "python",
   "nbconvert_exporter": "python",
   "pygments_lexer": "ipython3",
   "version": "3.9.18"
  }
 },
 "nbformat": 4,
 "nbformat_minor": 5
}
